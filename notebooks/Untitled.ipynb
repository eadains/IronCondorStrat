{
 "cells": [
  {
   "cell_type": "code",
   "execution_count": 1,
   "id": "d596bcce",
   "metadata": {},
   "outputs": [],
   "source": [
    "import sqlite3"
   ]
  },
  {
   "cell_type": "code",
   "execution_count": 3,
   "id": "2e1d76a6",
   "metadata": {},
   "outputs": [],
   "source": [
    "conn = sqlite3.Connection(\"/home/eadains/data.db\")"
   ]
  },
  {
   "cell_type": "code",
   "execution_count": 9,
   "id": "d100332e",
   "metadata": {},
   "outputs": [],
   "source": [
    "with conn:\n",
    "    test = conn.execute(\"\"\"SELECT MAX(lastupdated) FROM fundamentals;\"\"\")"
   ]
  },
  {
   "cell_type": "code",
   "execution_count": null,
   "id": "2fcc92fb",
   "metadata": {},
   "outputs": [],
   "source": []
  }
 ],
 "metadata": {
  "kernelspec": {
   "display_name": "Python 3",
   "language": "python",
   "name": "python3"
  },
  "language_info": {
   "codemirror_mode": {
    "name": "ipython",
    "version": 3
   },
   "file_extension": ".py",
   "mimetype": "text/x-python",
   "name": "python",
   "nbconvert_exporter": "python",
   "pygments_lexer": "ipython3",
   "version": "3.8.5"
  }
 },
 "nbformat": 4,
 "nbformat_minor": 5
}
