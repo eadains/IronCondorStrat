{
 "cells": [
  {
   "cell_type": "code",
   "execution_count": 5,
   "id": "d596bcce",
   "metadata": {},
   "outputs": [],
   "source": [
    "import sqlite3"
   ]
  },
  {
   "cell_type": "code",
   "execution_count": 6,
   "id": "2e1d76a6",
   "metadata": {},
   "outputs": [],
   "source": [
    "conn = sqlite3.Connection(\"/home/eadains/data.db\")"
   ]
  },
  {
   "cell_type": "code",
   "execution_count": 7,
   "id": "d100332e",
   "metadata": {},
   "outputs": [],
   "source": [
    "with conn:\n",
    "    test = conn.execute(\"\"\"SELECT MAX(lastupdated) FROM prices;\"\"\")"
   ]
  },
  {
   "cell_type": "code",
   "execution_count": 8,
   "id": "2fcc92fb",
   "metadata": {},
   "outputs": [
    {
     "data": {
      "text/plain": [
       "[('2021-06-05',)]"
      ]
     },
     "execution_count": 8,
     "metadata": {},
     "output_type": "execute_result"
    }
   ],
   "source": [
    "test.fetchall()"
   ]
  },
  {
   "cell_type": "code",
   "execution_count": 9,
   "id": "f5c27aa1",
   "metadata": {},
   "outputs": [],
   "source": [
    "import datetime"
   ]
  },
  {
   "cell_type": "code",
   "execution_count": 11,
   "id": "e17499d5",
   "metadata": {},
   "outputs": [],
   "source": [
    "d = datetime.date.today()"
   ]
  },
  {
   "cell_type": "code",
   "execution_count": 12,
   "id": "ffb1e7bf",
   "metadata": {},
   "outputs": [],
   "source": [
    "while d.weekday() != 4:\n",
    "    d += datetime.timedelta(1)"
   ]
  },
  {
   "cell_type": "code",
   "execution_count": 17,
   "id": "f4eecd34",
   "metadata": {},
   "outputs": [
    {
     "data": {
      "text/plain": [
       "'20210611'"
      ]
     },
     "execution_count": 17,
     "metadata": {},
     "output_type": "execute_result"
    }
   ],
   "source": [
    "d.strftime(\"%Y%m%d\")"
   ]
  },
  {
   "cell_type": "code",
   "execution_count": null,
   "id": "34ade006",
   "metadata": {},
   "outputs": [],
   "source": []
  }
 ],
 "metadata": {
  "kernelspec": {
   "display_name": "Python 3",
   "language": "python",
   "name": "python3"
  },
  "language_info": {
   "codemirror_mode": {
    "name": "ipython",
    "version": 3
   },
   "file_extension": ".py",
   "mimetype": "text/x-python",
   "name": "python",
   "nbconvert_exporter": "python",
   "pygments_lexer": "ipython3",
   "version": "3.8.5"
  }
 },
 "nbformat": 4,
 "nbformat_minor": 5
}
