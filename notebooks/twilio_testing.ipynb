{
 "cells": [
  {
   "cell_type": "code",
   "execution_count": 12,
   "id": "90f0f195",
   "metadata": {},
   "outputs": [
    {
     "data": {
      "text/plain": [
       "True"
      ]
     },
     "execution_count": 12,
     "metadata": {},
     "output_type": "execute_result"
    }
   ],
   "source": [
    "import os\n",
    "\n",
    "from dotenv import find_dotenv, load_dotenv\n",
    "from twilio.rest import Client\n",
    "\n",
    "load_dotenv(find_dotenv())"
   ]
  },
  {
   "cell_type": "code",
   "execution_count": 13,
   "id": "8cfd33e4",
   "metadata": {},
   "outputs": [],
   "source": [
    "client = Client(os.environ.get(\"TWILIO_SID\"), os.environ.get(\"TWILIO_TOKEN\"))"
   ]
  },
  {
   "cell_type": "code",
   "execution_count": 14,
   "id": "f6998430",
   "metadata": {},
   "outputs": [],
   "source": [
    "message = client.messages.create(body=\"THIS IS A TEST\", from_=os.environ.get(\"TWILIO_NUMBER\"), to=os.environ.get(\"PERSONAL_NUMBER\"))"
   ]
  },
  {
   "cell_type": "code",
   "execution_count": 16,
   "id": "f0350e09",
   "metadata": {},
   "outputs": [
    {
     "name": "stdout",
     "output_type": "stream",
     "text": [
      "SM5a64a4e82c6f4329aecd593352d7f96d\n"
     ]
    }
   ],
   "source": [
    "print(message.sid)"
   ]
  },
  {
   "cell_type": "code",
   "execution_count": null,
   "id": "8b1a7167",
   "metadata": {},
   "outputs": [],
   "source": []
  }
 ],
 "metadata": {
  "kernelspec": {
   "display_name": "Python 3",
   "language": "python",
   "name": "python3"
  },
  "language_info": {
   "codemirror_mode": {
    "name": "ipython",
    "version": 3
   },
   "file_extension": ".py",
   "mimetype": "text/x-python",
   "name": "python",
   "nbconvert_exporter": "python",
   "pygments_lexer": "ipython3",
   "version": "3.8.5"
  }
 },
 "nbformat": 4,
 "nbformat_minor": 5
}
